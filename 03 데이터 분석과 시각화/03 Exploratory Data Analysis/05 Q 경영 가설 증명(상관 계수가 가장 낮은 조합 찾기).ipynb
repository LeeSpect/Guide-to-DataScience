{
 "cells": [
  {
   "cell_type": "code",
   "execution_count": 11,
   "metadata": {},
   "outputs": [
    {
     "data": {
      "text/html": [
       "<div>\n",
       "<style scoped>\n",
       "    .dataframe tbody tr th:only-of-type {\n",
       "        vertical-align: middle;\n",
       "    }\n",
       "\n",
       "    .dataframe tbody tr th {\n",
       "        vertical-align: top;\n",
       "    }\n",
       "\n",
       "    .dataframe thead th {\n",
       "        text-align: right;\n",
       "    }\n",
       "</style>\n",
       "<table border=\"1\" class=\"dataframe\">\n",
       "  <thead>\n",
       "    <tr style=\"text-align: right;\">\n",
       "      <th></th>\n",
       "      <th>Branded clothing</th>\n",
       "      <th>Healthy eating</th>\n",
       "      <th>Musical instruments</th>\n",
       "      <th>New environment</th>\n",
       "      <th>Prioritising workload</th>\n",
       "      <th>Spending on looks</th>\n",
       "      <th>Workaholism</th>\n",
       "      <th>Writing</th>\n",
       "      <th>Writing notes</th>\n",
       "    </tr>\n",
       "  </thead>\n",
       "  <tbody>\n",
       "    <tr>\n",
       "      <th>Branded clothing</th>\n",
       "      <td>1.000000</td>\n",
       "      <td>0.086229</td>\n",
       "      <td>-0.081135</td>\n",
       "      <td>0.060765</td>\n",
       "      <td>0.010480</td>\n",
       "      <td>0.418399</td>\n",
       "      <td>-0.013694</td>\n",
       "      <td>-0.099731</td>\n",
       "      <td>-0.025140</td>\n",
       "    </tr>\n",
       "    <tr>\n",
       "      <th>Healthy eating</th>\n",
       "      <td>0.086229</td>\n",
       "      <td>1.000000</td>\n",
       "      <td>0.073319</td>\n",
       "      <td>0.059311</td>\n",
       "      <td>0.242131</td>\n",
       "      <td>0.130878</td>\n",
       "      <td>0.238644</td>\n",
       "      <td>0.008610</td>\n",
       "      <td>0.166951</td>\n",
       "    </tr>\n",
       "    <tr>\n",
       "      <th>Musical instruments</th>\n",
       "      <td>-0.081135</td>\n",
       "      <td>0.073319</td>\n",
       "      <td>1.000000</td>\n",
       "      <td>0.054590</td>\n",
       "      <td>0.075620</td>\n",
       "      <td>-0.040460</td>\n",
       "      <td>0.091071</td>\n",
       "      <td>0.343816</td>\n",
       "      <td>0.106172</td>\n",
       "    </tr>\n",
       "    <tr>\n",
       "      <th>New environment</th>\n",
       "      <td>0.060765</td>\n",
       "      <td>0.059311</td>\n",
       "      <td>0.054590</td>\n",
       "      <td>1.000000</td>\n",
       "      <td>-0.044485</td>\n",
       "      <td>0.073125</td>\n",
       "      <td>-0.007938</td>\n",
       "      <td>-0.029381</td>\n",
       "      <td>-0.079397</td>\n",
       "    </tr>\n",
       "    <tr>\n",
       "      <th>Prioritising workload</th>\n",
       "      <td>0.010480</td>\n",
       "      <td>0.242131</td>\n",
       "      <td>0.075620</td>\n",
       "      <td>-0.044485</td>\n",
       "      <td>1.000000</td>\n",
       "      <td>0.020372</td>\n",
       "      <td>0.416831</td>\n",
       "      <td>0.048875</td>\n",
       "      <td>0.368805</td>\n",
       "    </tr>\n",
       "    <tr>\n",
       "      <th>Spending on looks</th>\n",
       "      <td>0.418399</td>\n",
       "      <td>0.130878</td>\n",
       "      <td>-0.040460</td>\n",
       "      <td>0.073125</td>\n",
       "      <td>0.020372</td>\n",
       "      <td>1.000000</td>\n",
       "      <td>-0.040615</td>\n",
       "      <td>-0.002373</td>\n",
       "      <td>0.043540</td>\n",
       "    </tr>\n",
       "    <tr>\n",
       "      <th>Workaholism</th>\n",
       "      <td>-0.013694</td>\n",
       "      <td>0.238644</td>\n",
       "      <td>0.091071</td>\n",
       "      <td>-0.007938</td>\n",
       "      <td>0.416831</td>\n",
       "      <td>-0.040615</td>\n",
       "      <td>1.000000</td>\n",
       "      <td>0.109577</td>\n",
       "      <td>0.409415</td>\n",
       "    </tr>\n",
       "    <tr>\n",
       "      <th>Writing</th>\n",
       "      <td>-0.099731</td>\n",
       "      <td>0.008610</td>\n",
       "      <td>0.343816</td>\n",
       "      <td>-0.029381</td>\n",
       "      <td>0.048875</td>\n",
       "      <td>-0.002373</td>\n",
       "      <td>0.109577</td>\n",
       "      <td>1.000000</td>\n",
       "      <td>0.112684</td>\n",
       "    </tr>\n",
       "    <tr>\n",
       "      <th>Writing notes</th>\n",
       "      <td>-0.025140</td>\n",
       "      <td>0.166951</td>\n",
       "      <td>0.106172</td>\n",
       "      <td>-0.079397</td>\n",
       "      <td>0.368805</td>\n",
       "      <td>0.043540</td>\n",
       "      <td>0.409415</td>\n",
       "      <td>0.112684</td>\n",
       "      <td>1.000000</td>\n",
       "    </tr>\n",
       "  </tbody>\n",
       "</table>\n",
       "</div>"
      ],
      "text/plain": [
       "                       Branded clothing  Healthy eating  Musical instruments  \\\n",
       "Branded clothing               1.000000        0.086229            -0.081135   \n",
       "Healthy eating                 0.086229        1.000000             0.073319   \n",
       "Musical instruments           -0.081135        0.073319             1.000000   \n",
       "New environment                0.060765        0.059311             0.054590   \n",
       "Prioritising workload          0.010480        0.242131             0.075620   \n",
       "Spending on looks              0.418399        0.130878            -0.040460   \n",
       "Workaholism                   -0.013694        0.238644             0.091071   \n",
       "Writing                       -0.099731        0.008610             0.343816   \n",
       "Writing notes                 -0.025140        0.166951             0.106172   \n",
       "\n",
       "                       New environment  Prioritising workload  \\\n",
       "Branded clothing              0.060765               0.010480   \n",
       "Healthy eating                0.059311               0.242131   \n",
       "Musical instruments           0.054590               0.075620   \n",
       "New environment               1.000000              -0.044485   \n",
       "Prioritising workload        -0.044485               1.000000   \n",
       "Spending on looks             0.073125               0.020372   \n",
       "Workaholism                  -0.007938               0.416831   \n",
       "Writing                      -0.029381               0.048875   \n",
       "Writing notes                -0.079397               0.368805   \n",
       "\n",
       "                       Spending on looks  Workaholism   Writing  Writing notes  \n",
       "Branded clothing                0.418399    -0.013694 -0.099731      -0.025140  \n",
       "Healthy eating                  0.130878     0.238644  0.008610       0.166951  \n",
       "Musical instruments            -0.040460     0.091071  0.343816       0.106172  \n",
       "New environment                 0.073125    -0.007938 -0.029381      -0.079397  \n",
       "Prioritising workload           0.020372     0.416831  0.048875       0.368805  \n",
       "Spending on looks               1.000000    -0.040615 -0.002373       0.043540  \n",
       "Workaholism                    -0.040615     1.000000  0.109577       0.409415  \n",
       "Writing                        -0.002373     0.109577  1.000000       0.112684  \n",
       "Writing notes                   0.043540     0.409415  0.112684       1.000000  "
      ]
     },
     "execution_count": 11,
     "metadata": {},
     "output_type": "execute_result"
    }
   ],
   "source": [
    "# 경영학과 3학년이 된 영준이는 사업 아이템을 고민하면서, 가설을 몇 개 세워봤습니다.\n",
    "\n",
    "# 1. 악기를 다루는 사람들은 시 쓰기를 좋아하는 경향이 있을 것이다.\n",
    "# 2. 외모에 돈을 많이 투자하는 사람들은 브랜드 의류를 선호할 것이다.\n",
    "# 3. 메모를 자주 하는 사람들은 새로운 환경에 쉽게 적응할 것이다.\n",
    "# 4. 워커홀릭들은 건강한 음식을 먹으려는 경향이 있을 것이다.\n",
    "\n",
    "# 가장 가능성이 낮은 가설을 골라보세요.\n",
    "import pandas as pd\n",
    "import seaborn as sns\n",
    "\n",
    "df = pd.read_csv('Desktop/young_survey.csv')\n",
    "columns = ['Branded clothing', 'Healthy eating', 'Musical instruments', 'New environment', 'Prioritising workload', 'Spending on looks', 'Workaholism', 'Writing', 'Writing notes']\n",
    "df.corr().loc[columns, columns]"
   ]
  },
  {
   "cell_type": "code",
   "execution_count": 12,
   "metadata": {},
   "outputs": [
    {
     "data": {
      "text/plain": [
       "<AxesSubplot:>"
      ]
     },
     "execution_count": 12,
     "metadata": {},
     "output_type": "execute_result"
    },
    {
     "data": {
      "image/png": "[encoded data removed]",
      "text/plain": [
       "<Figure size 432x288 with 2 Axes>"
      ]
     },
     "metadata": {
      "needs_background": "light"
     },
     "output_type": "display_data"
    }
   ],
   "source": [
    "sns.heatmap(df.corr().loc[columns, columns])\n",
    "# 답 : 3번"
   ]
  },
  {
   "cell_type": "code",
   "execution_count": 13,
   "metadata": {},
   "outputs": [
    {
     "data": {
      "text/plain": [
       "0.34381621439042986"
      ]
     },
     "execution_count": 13,
     "metadata": {},
     "output_type": "execute_result"
    }
   ],
   "source": [
    "# 모범 답안\n",
    "# 1. 악기를 다루는 사람들은 시 쓰기를 좋아하는 경향이 있을 것이다.\n",
    "df.corr().loc['Musical instruments', 'Writing']"
   ]
  },
  {
   "cell_type": "code",
   "execution_count": 14,
   "metadata": {},
   "outputs": [
    {
     "data": {
      "text/plain": [
       "0.4183989446458914"
      ]
     },
     "execution_count": 14,
     "metadata": {},
     "output_type": "execute_result"
    }
   ],
   "source": [
    "# 2. 외모에 돈을 많이 투자하는 사람들은 브랜드 의류를 선호할 것이다.\n",
    "df.corr().loc['Spending on looks', 'Branded clothing']"
   ]
  },
  {
   "cell_type": "code",
   "execution_count": 15,
   "metadata": {},
   "outputs": [
    {
     "data": {
      "text/plain": [
       "-0.07939652994810564"
      ]
     },
     "execution_count": 15,
     "metadata": {},
     "output_type": "execute_result"
    }
   ],
   "source": [
    "# 3. 메모를 자주 하는 사람들은 새로운 환경에 쉽게 적응할 것이다.\n",
    "df.corr().loc['Writing notes', 'New environment']"
   ]
  },
  {
   "cell_type": "code",
   "execution_count": 16,
   "metadata": {},
   "outputs": [
    {
     "data": {
      "text/plain": [
       "0.23864443283866651"
      ]
     },
     "execution_count": 16,
     "metadata": {},
     "output_type": "execute_result"
    }
   ],
   "source": [
    "# 4. 워커홀릭들은 건강한 음식을 먹으려는 경향이 있을 것이다.\n",
    "df.corr().loc['Workaholism', 'Healthy eating']"
   ]
  },
  {
   "cell_type": "code",
   "execution_count": 17,
   "metadata": {},
   "outputs": [
    {
     "data": {
      "text/plain": [
       "0.24213118198630185"
      ]
     },
     "execution_count": 17,
     "metadata": {},
     "output_type": "execute_result"
    }
   ],
   "source": [
    "# 4. //\n",
    "df.corr().loc['Prioritising workload', 'Healthy eating']"
   ]
  },
  {
   "cell_type": "code",
   "execution_count": null,
   "metadata": {},
   "outputs": [],
   "source": []
  }
 ],
 "metadata": {
  "kernelspec": {
   "display_name": "Python 3",
   "language": "python",
   "name": "python3"
  },
  "language_info": {
   "codemirror_mode": {
    "name": "ipython",
    "version": 3
   },
   "file_extension": ".py",
   "mimetype": "text/x-python",
   "name": "python",
   "nbconvert_exporter": "python",
   "pygments_lexer": "ipython3",
   "version": "3.8.2"
  }
 },
 "nbformat": 4,
 "nbformat_minor": 4
}
