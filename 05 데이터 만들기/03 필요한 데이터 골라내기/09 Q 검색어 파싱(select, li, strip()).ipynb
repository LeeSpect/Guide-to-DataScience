{
 "cells": [
  {
   "cell_type": "code",
   "execution_count": 17,
   "metadata": {},
   "outputs": [
    {
     "name": "stdout",
     "output_type": "stream",
     "text": [
      "['Queen', '방탄소년단', '아이유', '거미', '폴킴', '김범수', '헤이즈', '트와이스', '박효신', '신용재']\n"
     ]
    }
   ],
   "source": [
    "# '인기 아티스트' 아래에 있는 '검색어 순위'의 1위~10위 데이터를 파싱해서 리스트에 담아 print 해 보세요.\n",
    "\n",
    "import requests\n",
    "from bs4 import BeautifulSoup\n",
    "\n",
    "\n",
    "response = requests.get(\"https://workey.codeit.kr/music/index\")\n",
    "\n",
    "soup = BeautifulSoup(response.text, 'html.parser')\n",
    "\n",
    "text_tags = soup.select(\".rank__order li\")\n",
    "\n",
    "search_ranks2 = []\n",
    "for txt in text_tags:\n",
    "    search_ranks2.append(txt.text.strip())\n",
    "\n",
    "search_ranks = []\n",
    "for txt in search_ranks2:\n",
    "    search_ranks.append(txt[4:].strip())\n",
    "    \n",
    "# 결과 출력\n",
    "print(search_ranks)"
   ]
  },
  {
   "cell_type": "code",
   "execution_count": null,
   "metadata": {},
   "outputs": [],
   "source": [
    "# 모범답안\n",
    "import requests\n",
    "from bs4 import BeautifulSoup\n",
    "\n",
    "# HTML 코드 받아오기\n",
    "response = requests.get(\"https://workey.codeit.kr/music/index\")\n",
    "\n",
    "# BeautifulSoup 타입으로 변환\n",
    "soup = BeautifulSoup(response.text, 'html.parser')\n",
    "\n",
    "# \"rank__order\" 클래스에 중첩된 <li> 태그 선택\n",
    "li_tags = soup.select('.rank__order li')\n",
    "\n",
    "# 빈 리스트 생성\n",
    "search_ranks = []\n",
    "\n",
    "# 텍스트 추출해서 리스트에 담기\n",
    "for li in li_tags:\n",
    "    search_ranks.append(li.text.strip().split(' ')[2])\n",
    "\n",
    "# 결과 출력\n",
    "print(search_ranks)"
   ]
  }
 ],
 "metadata": {
  "kernelspec": {
   "display_name": "Python 3",
   "language": "python",
   "name": "python3"
  },
  "language_info": {
   "codemirror_mode": {
    "name": "ipython",
    "version": 3
   },
   "file_extension": ".py",
   "mimetype": "text/x-python",
   "name": "python",
   "nbconvert_exporter": "python",
   "pygments_lexer": "ipython3",
   "version": "3.8.2"
  }
 },
 "nbformat": 4,
 "nbformat_minor": 4
}
